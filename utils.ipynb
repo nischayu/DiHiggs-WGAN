{
 "cells": [
  {
   "cell_type": "code",
   "execution_count": null,
   "metadata": {
    "collapsed": true
   },
   "outputs": [],
   "source": [
    "import torch\n",
    "from torch.autograd.variable import Variable\n",
    "​\n",
    "​\n",
    "def ones_target(size):\n",
    "    \"\"\"Tensor containing ones, with shape = size\"\"\"\n",
    "    data = Variable(torch.ones(size, 1))\n",
    "    if torch.cuda.is_available():\n",
    "        return data.cuda()\n",
    "    return data\n",
    "​\n",
    "​\n",
    "def zeros_target(size):\n",
    "    \"\"\"Tensor containing zeros, with shape = size\"\"\"\n",
    "    data = Variable(torch.zeros(size, 1))\n",
    "    if torch.cuda.is_available():\n",
    "        return data.cuda()\n",
    "    return data\n"
   ]
  }
 ],
 "metadata": {
  "kernelspec": {
   "display_name": "PHYS GANS09",
   "language": "python",
   "name": "gans09"
  },
  "language_info": {
   "codemirror_mode": {
    "name": "ipython",
    "version": 3
   },
   "file_extension": ".py",
   "mimetype": "text/x-python",
   "name": "python",
   "nbconvert_exporter": "python",
   "pygments_lexer": "ipython3",
   "version": "3.6.11"
  }
 },
 "nbformat": 4,
 "nbformat_minor": 2
}
